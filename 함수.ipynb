{
  "nbformat": 4,
  "nbformat_minor": 0,
  "metadata": {
    "colab": {
      "provenance": [],
      "authorship_tag": "ABX9TyN8bPm+aTu9chrtD5oSaeAg",
      "include_colab_link": true
    },
    "kernelspec": {
      "name": "python3",
      "display_name": "Python 3"
    },
    "language_info": {
      "name": "python"
    }
  },
  "cells": [
    {
      "cell_type": "markdown",
      "metadata": {
        "id": "view-in-github",
        "colab_type": "text"
      },
      "source": [
        "<a href=\"https://colab.research.google.com/github/Junple301/LectWeb/blob/main/%ED%95%A8%EC%88%98.ipynb\" target=\"_parent\"><img src=\"https://colab.research.google.com/assets/colab-badge.svg\" alt=\"Open In Colab\"/></a>"
      ]
    },
    {
      "cell_type": "code",
      "execution_count": null,
      "metadata": {
        "id": "hNzp3YePT335"
      },
      "outputs": [],
      "source": [
        "import matpltlib.pyplot as plt\n",
        "import numpy as np\n",
        "\n",
        "def f(x):\n",
        "  return 2 * x + 1\n",
        "\n",
        "x = np.linspace(-10, 10, 100)\n",
        "y = f(x)\n",
        "\n",
        "plt.plot(x, y, label = \"f(x) = 2x + 1\")\n",
        "plt.xlabel(\"x\")\n",
        "plt.ylabel(\"f(x)\")\n",
        "plt.title(\"Example of function graph\")\n",
        "plt.legend()\n",
        "plt,grid(True)\n",
        "plt.show()\n",
        "\n",
        "def is_injective(f, domain):\n",
        "  image = set()\n",
        "  for x in domain:\n",
        "    fx = f(x)\n",
        "    if fx in image:\n",
        "      return False\n",
        "    image.add(fx)\n",
        "  return True\n",
        "\n",
        "domain = range(-10, 11)\n",
        "print(\"Is it injective func?\", is_injective(f, domain))\n",
        "\n",
        "def inverse_f(y):\n",
        "  return(y - 1) / 2\n",
        "\n",
        "y_values = np.linspace(-10, 10, 100)\n",
        "x_values = inverse_f(y_values)\n",
        "\n",
        "plt.plot(y_values, x_values, label = \"Inverse func f^{-1}(y) = (y - 1) / 2, color = \"red\")\n",
        "plt.xlabel(\"y\")\n",
        "plt.ylabel(\"f^{-1}(y)\")\n",
        "plt.title(\"Inverse function graph\")\n",
        "plt.legend()\n",
        "plt.grid(True)\n",
        "plt.show()\n"
      ]
    }
  ]
}